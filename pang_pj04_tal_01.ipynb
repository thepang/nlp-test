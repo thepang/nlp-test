{
 "cells": [
  {
   "cell_type": "code",
   "execution_count": 3,
   "metadata": {},
   "outputs": [],
   "source": [
    "import pandas as pd\n",
    "import mongo_work  as mon"
   ]
  },
  {
   "cell_type": "markdown",
   "metadata": {},
   "source": [
    "# Text Preprocessing\n",
    "\n",
    "I will be analyzing transcripts from the _This American Life podcasts_. All the code for getting the data is in 'scraping.py' for review. I will start from the text preprossing part of the project. \n",
    "\n",
    "The data is stored in a local mongo database. You can review the mongo_work.py for the logic to put data into my local database and the logic to pull data from the database into a pandas dataframe as shown in the next cell."
   ]
  },
  {
   "cell_type": "code",
   "execution_count": 4,
   "metadata": {},
   "outputs": [
    {
     "data": {
      "text/html": [
       "<div>\n",
       "<style scoped>\n",
       "    .dataframe tbody tr th:only-of-type {\n",
       "        vertical-align: middle;\n",
       "    }\n",
       "\n",
       "    .dataframe tbody tr th {\n",
       "        vertical-align: top;\n",
       "    }\n",
       "\n",
       "    .dataframe thead th {\n",
       "        text-align: right;\n",
       "    }\n",
       "</style>\n",
       "<table border=\"1\" class=\"dataframe\">\n",
       "  <thead>\n",
       "    <tr style=\"text-align: right;\">\n",
       "      <th></th>\n",
       "      <th>ep_num</th>\n",
       "      <th>ep_title</th>\n",
       "      <th>ep_air_date</th>\n",
       "      <th>ep_summary</th>\n",
       "      <th>speaker</th>\n",
       "      <th>words</th>\n",
       "      <th>timestamp</th>\n",
       "      <th>act</th>\n",
       "    </tr>\n",
       "  </thead>\n",
       "  <tbody>\n",
       "    <tr>\n",
       "      <th>145691</th>\n",
       "      <td>575</td>\n",
       "      <td>Poetry of Propaganda</td>\n",
       "      <td>Dec. 18, 2015</td>\n",
       "      <td>Propaganda is complexity in the form of simpli...</td>\n",
       "      <td>Ira Glass</td>\n",
       "      <td>When Damien Cave moved to Mexico and started r...</td>\n",
       "      <td>00:00:07_51</td>\n",
       "      <td>Prologue</td>\n",
       "    </tr>\n",
       "    <tr>\n",
       "      <th>98028</th>\n",
       "      <td>395</td>\n",
       "      <td>Middle of the Night</td>\n",
       "      <td>Nov. 27, 2009</td>\n",
       "      <td>Stories of people who are up while the rest of...</td>\n",
       "      <td>Angela Poricelli</td>\n",
       "      <td>Yes. I agree with him there. That I do. Plus, ...</td>\n",
       "      <td>00:12:08_08</td>\n",
       "      <td>Act One: Orange You Glad I Didn’t Say Banana?</td>\n",
       "    </tr>\n",
       "    <tr>\n",
       "      <th>169238</th>\n",
       "      <td>610</td>\n",
       "      <td>Grand Gesture</td>\n",
       "      <td>Feb. 17, 2017</td>\n",
       "      <td>People going to very extreme measures to demon...</td>\n",
       "      <td>Caitlin Mitchell</td>\n",
       "      <td>Yeah. There was snow in my yard, so-- I mean--</td>\n",
       "      <td>00:03:23_00</td>\n",
       "      <td>Prologue</td>\n",
       "    </tr>\n",
       "  </tbody>\n",
       "</table>\n",
       "</div>"
      ],
      "text/plain": [
       "       ep_num              ep_title    ep_air_date  \\\n",
       "145691    575  Poetry of Propaganda  Dec. 18, 2015   \n",
       "98028     395   Middle of the Night  Nov. 27, 2009   \n",
       "169238    610         Grand Gesture  Feb. 17, 2017   \n",
       "\n",
       "                                               ep_summary           speaker  \\\n",
       "145691  Propaganda is complexity in the form of simpli...         Ira Glass   \n",
       "98028   Stories of people who are up while the rest of...  Angela Poricelli   \n",
       "169238  People going to very extreme measures to demon...  Caitlin Mitchell   \n",
       "\n",
       "                                                    words    timestamp  \\\n",
       "145691  When Damien Cave moved to Mexico and started r...  00:00:07_51   \n",
       "98028   Yes. I agree with him there. That I do. Plus, ...  00:12:08_08   \n",
       "169238     Yeah. There was snow in my yard, so-- I mean--  00:03:23_00   \n",
       "\n",
       "                                                  act  \n",
       "145691                                       Prologue  \n",
       "98028   Act One: Orange You Glad I Didn’t Say Banana?  \n",
       "169238                                       Prologue  "
      ]
     },
     "execution_count": 4,
     "metadata": {},
     "output_type": "execute_result"
    }
   ],
   "source": [
    "full_data = mon.get_episodes()\n",
    "full_data.sample(3)"
   ]
  },
  {
   "cell_type": "markdown",
   "metadata": {},
   "source": [
    "While there is a lot of metadata I kept for each row, I will be working on cleaining up the 'words' column as it contains the actual text of the podcast:"
   ]
  },
  {
   "cell_type": "code",
   "execution_count": 5,
   "metadata": {},
   "outputs": [],
   "source": [
    "words = full_data['words']"
   ]
  },
  {
   "cell_type": "markdown",
   "metadata": {},
   "source": [
    "As recommended, we first remove all numbers/punctuation and lower all capitals."
   ]
  },
  {
   "cell_type": "code",
   "execution_count": 6,
   "metadata": {},
   "outputs": [
    {
     "data": {
      "text/plain": [
       "125225    it was  like      or     in the morning  i tol...\n",
       "109532    this girl right here just grabbed onto the bac...\n",
       "130665    that is a way to estimate how many planets are...\n",
       "162328    yeah  they would show people where the room   ...\n",
       "84917     you have reached the answering machine of fred...\n",
       "Name: words, dtype: object"
      ]
     },
     "execution_count": 6,
     "metadata": {},
     "output_type": "execute_result"
    }
   ],
   "source": [
    "import re\n",
    "import string\n",
    "\n",
    "alphanumeric = lambda x: re.sub('\\w*\\d\\w*', ' ', x)\n",
    "punc_lower = lambda x: re.sub('[%s]' % re.escape(string.punctuation), ' ', x.lower())\n",
    "\n",
    "words = words.map(alphanumeric).map(punc_lower)\n",
    "words.sample(5)"
   ]
  },
  {
   "cell_type": "markdown",
   "metadata": {},
   "source": []
  },
  {
   "cell_type": "code",
   "execution_count": 29,
   "metadata": {},
   "outputs": [
    {
     "ename": "ModuleNotFoundError",
     "evalue": "No module named 'nltk'",
     "output_type": "error",
     "traceback": [
      "\u001b[0;31m---------------------------------------------------------------------------\u001b[0m",
      "\u001b[0;31mModuleNotFoundError\u001b[0m                       Traceback (most recent call last)",
      "\u001b[0;32m<ipython-input-29-1d2184025e54>\u001b[0m in \u001b[0;36m<module>\u001b[0;34m\u001b[0m\n\u001b[0;32m----> 1\u001b[0;31m \u001b[0;32mimport\u001b[0m \u001b[0mnltk\u001b[0m\u001b[0;34m\u001b[0m\u001b[0;34m\u001b[0m\u001b[0m\n\u001b[0m",
      "\u001b[0;31mModuleNotFoundError\u001b[0m: No module named 'nltk'"
     ]
    }
   ],
   "source": [
    "import nltk"
   ]
  },
  {
   "cell_type": "code",
   "execution_count": null,
   "metadata": {},
   "outputs": [],
   "source": [
    "## TO DO: There are words bracketed like [SPEAKING SPANISH]. What do?"
   ]
  },
  {
   "cell_type": "code",
   "execution_count": 7,
   "metadata": {},
   "outputs": [],
   "source": [
    "from sklearn.feature_extraction.text import CountVectorizer\n",
    "\n",
    "cv1 = CountVectorizer(stop_words='english')\n",
    "transformed_matrix = cv1.fit_transform(words)\n",
    "word_count_array = pd.DataFrame(transformed_matrix.toarray(), columns=cv1.get_feature_names()).head()"
   ]
  },
  {
   "cell_type": "code",
   "execution_count": 8,
   "metadata": {},
   "outputs": [
    {
     "data": {
      "text/html": [
       "<div>\n",
       "<style scoped>\n",
       "    .dataframe tbody tr th:only-of-type {\n",
       "        vertical-align: middle;\n",
       "    }\n",
       "\n",
       "    .dataframe tbody tr th {\n",
       "        vertical-align: top;\n",
       "    }\n",
       "\n",
       "    .dataframe thead th {\n",
       "        text-align: right;\n",
       "    }\n",
       "</style>\n",
       "<table border=\"1\" class=\"dataframe\">\n",
       "  <thead>\n",
       "    <tr style=\"text-align: right;\">\n",
       "      <th></th>\n",
       "      <th>aa</th>\n",
       "      <th>aaa</th>\n",
       "      <th>aaaaaaa</th>\n",
       "      <th>aaaaagh</th>\n",
       "      <th>aaaaah</th>\n",
       "      <th>aaaaahh</th>\n",
       "      <th>aaaah</th>\n",
       "      <th>aaagh</th>\n",
       "      <th>aaah</th>\n",
       "      <th>aaas</th>\n",
       "      <th>...</th>\n",
       "      <th>zulus</th>\n",
       "      <th>zuma</th>\n",
       "      <th>zundel</th>\n",
       "      <th>zuni</th>\n",
       "      <th>zuniga</th>\n",
       "      <th>zus</th>\n",
       "      <th>zygotic</th>\n",
       "      <th>zyprexa</th>\n",
       "      <th>zyuganov</th>\n",
       "      <th>zz</th>\n",
       "    </tr>\n",
       "  </thead>\n",
       "  <tbody>\n",
       "    <tr>\n",
       "      <th>0</th>\n",
       "      <td>0</td>\n",
       "      <td>0</td>\n",
       "      <td>0</td>\n",
       "      <td>0</td>\n",
       "      <td>0</td>\n",
       "      <td>0</td>\n",
       "      <td>0</td>\n",
       "      <td>0</td>\n",
       "      <td>0</td>\n",
       "      <td>0</td>\n",
       "      <td>...</td>\n",
       "      <td>0</td>\n",
       "      <td>0</td>\n",
       "      <td>0</td>\n",
       "      <td>0</td>\n",
       "      <td>0</td>\n",
       "      <td>0</td>\n",
       "      <td>0</td>\n",
       "      <td>0</td>\n",
       "      <td>0</td>\n",
       "      <td>0</td>\n",
       "    </tr>\n",
       "    <tr>\n",
       "      <th>1</th>\n",
       "      <td>0</td>\n",
       "      <td>0</td>\n",
       "      <td>0</td>\n",
       "      <td>0</td>\n",
       "      <td>0</td>\n",
       "      <td>0</td>\n",
       "      <td>0</td>\n",
       "      <td>0</td>\n",
       "      <td>0</td>\n",
       "      <td>0</td>\n",
       "      <td>...</td>\n",
       "      <td>0</td>\n",
       "      <td>0</td>\n",
       "      <td>0</td>\n",
       "      <td>0</td>\n",
       "      <td>0</td>\n",
       "      <td>0</td>\n",
       "      <td>0</td>\n",
       "      <td>0</td>\n",
       "      <td>0</td>\n",
       "      <td>0</td>\n",
       "    </tr>\n",
       "    <tr>\n",
       "      <th>4</th>\n",
       "      <td>0</td>\n",
       "      <td>0</td>\n",
       "      <td>0</td>\n",
       "      <td>0</td>\n",
       "      <td>0</td>\n",
       "      <td>0</td>\n",
       "      <td>0</td>\n",
       "      <td>0</td>\n",
       "      <td>0</td>\n",
       "      <td>0</td>\n",
       "      <td>...</td>\n",
       "      <td>0</td>\n",
       "      <td>0</td>\n",
       "      <td>0</td>\n",
       "      <td>0</td>\n",
       "      <td>0</td>\n",
       "      <td>0</td>\n",
       "      <td>0</td>\n",
       "      <td>0</td>\n",
       "      <td>0</td>\n",
       "      <td>0</td>\n",
       "    </tr>\n",
       "    <tr>\n",
       "      <th>3</th>\n",
       "      <td>0</td>\n",
       "      <td>0</td>\n",
       "      <td>0</td>\n",
       "      <td>0</td>\n",
       "      <td>0</td>\n",
       "      <td>0</td>\n",
       "      <td>0</td>\n",
       "      <td>0</td>\n",
       "      <td>0</td>\n",
       "      <td>0</td>\n",
       "      <td>...</td>\n",
       "      <td>0</td>\n",
       "      <td>0</td>\n",
       "      <td>0</td>\n",
       "      <td>0</td>\n",
       "      <td>0</td>\n",
       "      <td>0</td>\n",
       "      <td>0</td>\n",
       "      <td>0</td>\n",
       "      <td>0</td>\n",
       "      <td>0</td>\n",
       "    </tr>\n",
       "    <tr>\n",
       "      <th>2</th>\n",
       "      <td>0</td>\n",
       "      <td>0</td>\n",
       "      <td>0</td>\n",
       "      <td>0</td>\n",
       "      <td>0</td>\n",
       "      <td>0</td>\n",
       "      <td>0</td>\n",
       "      <td>0</td>\n",
       "      <td>0</td>\n",
       "      <td>0</td>\n",
       "      <td>...</td>\n",
       "      <td>0</td>\n",
       "      <td>0</td>\n",
       "      <td>0</td>\n",
       "      <td>0</td>\n",
       "      <td>0</td>\n",
       "      <td>0</td>\n",
       "      <td>0</td>\n",
       "      <td>0</td>\n",
       "      <td>0</td>\n",
       "      <td>0</td>\n",
       "    </tr>\n",
       "  </tbody>\n",
       "</table>\n",
       "<p>5 rows × 58128 columns</p>\n",
       "</div>"
      ],
      "text/plain": [
       "   aa  aaa  aaaaaaa  aaaaagh  aaaaah  aaaaahh  aaaah  aaagh  aaah  aaas  ...  \\\n",
       "0   0    0        0        0       0        0      0      0     0     0  ...   \n",
       "1   0    0        0        0       0        0      0      0     0     0  ...   \n",
       "4   0    0        0        0       0        0      0      0     0     0  ...   \n",
       "3   0    0        0        0       0        0      0      0     0     0  ...   \n",
       "2   0    0        0        0       0        0      0      0     0     0  ...   \n",
       "\n",
       "   zulus  zuma  zundel  zuni  zuniga  zus  zygotic  zyprexa  zyuganov  zz  \n",
       "0      0     0       0     0       0    0        0        0         0   0  \n",
       "1      0     0       0     0       0    0        0        0         0   0  \n",
       "4      0     0       0     0       0    0        0        0         0   0  \n",
       "3      0     0       0     0       0    0        0        0         0   0  \n",
       "2      0     0       0     0       0    0        0        0         0   0  \n",
       "\n",
       "[5 rows x 58128 columns]"
      ]
     },
     "execution_count": 8,
     "metadata": {},
     "output_type": "execute_result"
    }
   ],
   "source": [
    "word_count_array.sample(5)"
   ]
  },
  {
   "cell_type": "code",
   "execution_count": 28,
   "metadata": {},
   "outputs": [
    {
     "data": {
      "text/html": [
       "<div>\n",
       "<style scoped>\n",
       "    .dataframe tbody tr th:only-of-type {\n",
       "        vertical-align: middle;\n",
       "    }\n",
       "\n",
       "    .dataframe tbody tr th {\n",
       "        vertical-align: top;\n",
       "    }\n",
       "\n",
       "    .dataframe thead th {\n",
       "        text-align: right;\n",
       "    }\n",
       "</style>\n",
       "<table border=\"1\" class=\"dataframe\">\n",
       "  <thead>\n",
       "    <tr style=\"text-align: right;\">\n",
       "      <th></th>\n",
       "      <th>0</th>\n",
       "    </tr>\n",
       "  </thead>\n",
       "  <tbody>\n",
       "    <tr>\n",
       "      <th>5616</th>\n",
       "      <td>borelli</td>\n",
       "    </tr>\n",
       "    <tr>\n",
       "      <th>15916</th>\n",
       "      <td>elaborateness</td>\n",
       "    </tr>\n",
       "    <tr>\n",
       "      <th>36580</th>\n",
       "      <td>paintball</td>\n",
       "    </tr>\n",
       "    <tr>\n",
       "      <th>48968</th>\n",
       "      <td>stealth</td>\n",
       "    </tr>\n",
       "    <tr>\n",
       "      <th>48665</th>\n",
       "      <td>sro</td>\n",
       "    </tr>\n",
       "  </tbody>\n",
       "</table>\n",
       "</div>"
      ],
      "text/plain": [
       "                   0\n",
       "5616         borelli\n",
       "15916  elaborateness\n",
       "36580      paintball\n",
       "48968        stealth\n",
       "48665            sro"
      ]
     },
     "execution_count": 28,
     "metadata": {},
     "output_type": "execute_result"
    }
   ],
   "source": [
    "pd.DataFrame(word_count_array.columns).sample(5)"
   ]
  },
  {
   "cell_type": "code",
   "execution_count": 4,
   "metadata": {},
   "outputs": [],
   "source": [
    "client = MongoClient()\n",
    "db = client.tal_pod"
   ]
  },
  {
   "cell_type": "code",
   "execution_count": 5,
   "metadata": {},
   "outputs": [
    {
     "data": {
      "text/plain": [
       "['episodes']"
      ]
     },
     "execution_count": 5,
     "metadata": {},
     "output_type": "execute_result"
    }
   ],
   "source": [
    "db.list_collection_names()"
   ]
  },
  {
   "cell_type": "code",
   "execution_count": 12,
   "metadata": {
    "collapsed": true
   },
   "outputs": [
    {
     "data": {
      "text/plain": [
       "[{'ep': '688', 'title': 'The Out Crowd'},\n",
       " {'ep': '667', 'title': 'Wartime Radio'},\n",
       " {'ep': '671', 'title': 'Anything Can Be Anything'},\n",
       " {'ep': '684', 'title': 'Burn It Down'},\n",
       " {'ep': '685', 'title': 'We Come From Small Places'},\n",
       " {'ep': '670', 'title': 'Beware the Jabberwock'},\n",
       " {'ep': '689', 'title': 'Digging Up the Bones'},\n",
       " {'ep': '666', 'title': 'The Theme That Shall Not Be Named'},\n",
       " {'ep': '682', 'title': 'Ten Sessions'},\n",
       " {'ep': '677', 'title': 'Seeing Yourself In the Wild'},\n",
       " {'ep': '676', 'title': 'Here’s Looking at You, Kid'},\n",
       " {'ep': '683', 'title': 'Beer Summit'},\n",
       " {'ep': '679', 'title': 'Save the Girl'},\n",
       " {'ep': '680', 'title': 'The Weight Of Words'},\n",
       " {'ep': '675', 'title': 'I’m on TV??'},\n",
       " {'ep': '674', 'title': 'Get a Spine!'},\n",
       " {'ep': '681', 'title': 'Escape From the Lab'},\n",
       " {'ep': '678', 'title': 'The Wannabes'},\n",
       " {'ep': '673', 'title': 'Left Behind'},\n",
       " {'ep': '665', 'title': 'Before Things Went to Hell'},\n",
       " {'ep': '690', 'title': 'Too Close to Home'},\n",
       " {'ep': '669', 'title': 'Scrambling to Get Off the Ice'},\n",
       " {'ep': '686', 'title': 'Umbrellas Up'},\n",
       " {'ep': '668', 'title': 'The Long Fuse'},\n",
       " {'ep': '687', 'title': 'Small Things Considered'},\n",
       " {'ep': '672', 'title': 'No Fair!'}]"
      ]
     },
     "execution_count": 12,
     "metadata": {},
     "output_type": "execute_result"
    }
   ],
   "source": [
    "cursor = db.episodes.find({}, {'ep':1, 'title': 1, '_id':0})\n",
    "list(cursor)"
   ]
  },
  {
   "cell_type": "code",
   "execution_count": 20,
   "metadata": {},
   "outputs": [
    {
     "data": {
      "text/plain": [
       "[]"
      ]
     },
     "execution_count": 20,
     "metadata": {},
     "output_type": "execute_result"
    }
   ],
   "source": [
    "\n"
   ]
  },
  {
   "cell_type": "code",
   "execution_count": null,
   "metadata": {},
   "outputs": [],
   "source": []
  },
  {
   "cell_type": "code",
   "execution_count": null,
   "metadata": {},
   "outputs": [],
   "source": []
  },
  {
   "cell_type": "code",
   "execution_count": 10,
   "metadata": {},
   "outputs": [],
   "source": [
    "db['episodes'].drop()"
   ]
  },
  {
   "cell_type": "code",
   "execution_count": null,
   "metadata": {},
   "outputs": [],
   "source": []
  }
 ],
 "metadata": {
  "kernelspec": {
   "display_name": "Python 3",
   "language": "python",
   "name": "python3"
  },
  "language_info": {
   "codemirror_mode": {
    "name": "ipython",
    "version": 3
   },
   "file_extension": ".py",
   "mimetype": "text/x-python",
   "name": "python",
   "nbconvert_exporter": "python",
   "pygments_lexer": "ipython3",
   "version": "3.7.6"
  }
 },
 "nbformat": 4,
 "nbformat_minor": 2
}

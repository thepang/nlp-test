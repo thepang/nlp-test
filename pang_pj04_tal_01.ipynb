{
 "cells": [
  {
   "cell_type": "code",
   "execution_count": 12,
   "metadata": {},
   "outputs": [],
   "source": [
    "import pandas as pd\n",
    "import mongo_work  as mon"
   ]
  },
  {
   "cell_type": "markdown",
   "metadata": {},
   "source": [
    "# Text Preprossing\n",
    "\n",
    "I will be analyzing transcripts from the _This American Life podcasts_. All the code for getting the data is in 'scraping.py' for review. I will start from the text preprossing part of the project. \n",
    "\n",
    "The data is stored in a local mongo database. You can review the mongo_work.py for the logic to put data into my local database and the logic to pull data from the database into a pandas dataframe as shown in the next cell."
   ]
  },
  {
   "cell_type": "code",
   "execution_count": 2,
   "metadata": {},
   "outputs": [
    {
     "data": {
      "text/html": [
       "<div>\n",
       "<style scoped>\n",
       "    .dataframe tbody tr th:only-of-type {\n",
       "        vertical-align: middle;\n",
       "    }\n",
       "\n",
       "    .dataframe tbody tr th {\n",
       "        vertical-align: top;\n",
       "    }\n",
       "\n",
       "    .dataframe thead th {\n",
       "        text-align: right;\n",
       "    }\n",
       "</style>\n",
       "<table border=\"1\" class=\"dataframe\">\n",
       "  <thead>\n",
       "    <tr style=\"text-align: right;\">\n",
       "      <th></th>\n",
       "      <th>ep_num</th>\n",
       "      <th>ep_title</th>\n",
       "      <th>ep_air_date</th>\n",
       "      <th>ep_summary</th>\n",
       "      <th>speaker</th>\n",
       "      <th>words</th>\n",
       "      <th>timestamp</th>\n",
       "      <th>act</th>\n",
       "    </tr>\n",
       "  </thead>\n",
       "  <tbody>\n",
       "    <tr>\n",
       "      <th>4299</th>\n",
       "      <td>683</td>\n",
       "      <td>Beer Summit</td>\n",
       "      <td>Sept. 20, 2019</td>\n",
       "      <td>Two people, sitting down over a beer, hashing ...</td>\n",
       "      <td>Ben Calhoun</td>\n",
       "      <td>They both told me the story of the Democratic ...</td>\n",
       "      <td>01:03:44_65</td>\n",
       "      <td>Act Two: Lagerheads</td>\n",
       "    </tr>\n",
       "    <tr>\n",
       "      <th>8549</th>\n",
       "      <td>672</td>\n",
       "      <td>No Fair!</td>\n",
       "      <td>Apr. 5, 2019</td>\n",
       "      <td>Stories of very small injustices and also one ...</td>\n",
       "      <td>Gabriel</td>\n",
       "      <td>You have to tell the tattle-phone the whole st...</td>\n",
       "      <td>00:08:48_48</td>\n",
       "      <td>Prologue: Prologue</td>\n",
       "    </tr>\n",
       "    <tr>\n",
       "      <th>6343</th>\n",
       "      <td>678</td>\n",
       "      <td>The Wannabes</td>\n",
       "      <td>July 5, 2019</td>\n",
       "      <td>We hang out with the presidential candidates, ...</td>\n",
       "      <td>David Kestenbaum</td>\n",
       "      <td>I'm still trying to think through just, like i...</td>\n",
       "      <td>01:01:09_75</td>\n",
       "      <td>Wannabes One</td>\n",
       "    </tr>\n",
       "  </tbody>\n",
       "</table>\n",
       "</div>"
      ],
      "text/plain": [
       "     ep_num      ep_title     ep_air_date  \\\n",
       "4299    683   Beer Summit  Sept. 20, 2019   \n",
       "8549    672      No Fair!    Apr. 5, 2019   \n",
       "6343    678  The Wannabes    July 5, 2019   \n",
       "\n",
       "                                             ep_summary           speaker  \\\n",
       "4299  Two people, sitting down over a beer, hashing ...       Ben Calhoun   \n",
       "8549  Stories of very small injustices and also one ...           Gabriel   \n",
       "6343  We hang out with the presidential candidates, ...  David Kestenbaum   \n",
       "\n",
       "                                                  words    timestamp  \\\n",
       "4299  They both told me the story of the Democratic ...  01:03:44_65   \n",
       "8549  You have to tell the tattle-phone the whole st...  00:08:48_48   \n",
       "6343  I'm still trying to think through just, like i...  01:01:09_75   \n",
       "\n",
       "                      act  \n",
       "4299  Act Two: Lagerheads  \n",
       "8549   Prologue: Prologue  \n",
       "6343         Wannabes One  "
      ]
     },
     "execution_count": 2,
     "metadata": {},
     "output_type": "execute_result"
    }
   ],
   "source": [
    "full_data = mon.get_episodes()\n",
    "full_data.sample(3)"
   ]
  },
  {
   "cell_type": "markdown",
   "metadata": {},
   "source": [
    "While there is a lot of metadata I kept for each row, I will be working on cleaining up the 'words' column as it contains the actual text of the podcast:"
   ]
  },
  {
   "cell_type": "code",
   "execution_count": 8,
   "metadata": {},
   "outputs": [],
   "source": [
    "words = full_data['words']"
   ]
  },
  {
   "cell_type": "markdown",
   "metadata": {},
   "source": [
    "As recommended, we first remove all numbers/puncuations and lower all capitals."
   ]
  },
  {
   "cell_type": "code",
   "execution_count": 9,
   "metadata": {},
   "outputs": [
    {
     "data": {
      "text/plain": [
       "916     also  neither deandre joshua nor shawn gray wa...\n",
       "2062    he was trying to kill me  point blank  what ot...\n",
       "4205                                                     \n",
       "4152                  and is that a very common question \n",
       "5921                         former governor of colorado \n",
       "Name: words, dtype: object"
      ]
     },
     "execution_count": 9,
     "metadata": {},
     "output_type": "execute_result"
    }
   ],
   "source": [
    "import re\n",
    "import string\n",
    "\n",
    "alphanumeric = lambda x: re.sub('\\w*\\d\\w*', ' ', x)\n",
    "punc_lower = lambda x: re.sub('[%s]' % re.escape(string.punctuation), ' ', x.lower())\n",
    "\n",
    "words = words.map(alphanumeric).map(punc_lower)\n",
    "words.sample(5)"
   ]
  },
  {
   "cell_type": "code",
   "execution_count": null,
   "metadata": {},
   "outputs": [],
   "source": [
    "## TO DO: There are words bracketed like [SPEAKING SPANISH]. What do?"
   ]
  },
  {
   "cell_type": "code",
   "execution_count": 15,
   "metadata": {},
   "outputs": [],
   "source": [
    "from sklearn.feature_extraction.text import CountVectorizer\n",
    "\n",
    "cv1 = CountVectorizer(stop_words='english')\n",
    "transformed_matrix = cv1.fit_transform(words)\n",
    "word_count_array = pd.DataFrame(transformed_matrix.toarray(), columns=cv1.get_feature_names()).head()"
   ]
  },
  {
   "cell_type": "code",
   "execution_count": 16,
   "metadata": {},
   "outputs": [
    {
     "data": {
      "text/html": [
       "<div>\n",
       "<style scoped>\n",
       "    .dataframe tbody tr th:only-of-type {\n",
       "        vertical-align: middle;\n",
       "    }\n",
       "\n",
       "    .dataframe tbody tr th {\n",
       "        vertical-align: top;\n",
       "    }\n",
       "\n",
       "    .dataframe thead th {\n",
       "        text-align: right;\n",
       "    }\n",
       "</style>\n",
       "<table border=\"1\" class=\"dataframe\">\n",
       "  <thead>\n",
       "    <tr style=\"text-align: right;\">\n",
       "      <th></th>\n",
       "      <th>aaron</th>\n",
       "      <th>ab</th>\n",
       "      <th>aback</th>\n",
       "      <th>abandoned</th>\n",
       "      <th>abboud</th>\n",
       "      <th>abbreviated</th>\n",
       "      <th>abc</th>\n",
       "      <th>abdallah</th>\n",
       "      <th>abdul</th>\n",
       "      <th>abdullah</th>\n",
       "      <th>...</th>\n",
       "      <th>zoey</th>\n",
       "      <th>zombies</th>\n",
       "      <th>zone</th>\n",
       "      <th>zones</th>\n",
       "      <th>zoo</th>\n",
       "      <th>zoom</th>\n",
       "      <th>zoomed</th>\n",
       "      <th>zooms</th>\n",
       "      <th>zuckerberg</th>\n",
       "      <th>zukerman</th>\n",
       "    </tr>\n",
       "  </thead>\n",
       "  <tbody>\n",
       "    <tr>\n",
       "      <th>3</th>\n",
       "      <td>0</td>\n",
       "      <td>0</td>\n",
       "      <td>0</td>\n",
       "      <td>0</td>\n",
       "      <td>0</td>\n",
       "      <td>0</td>\n",
       "      <td>0</td>\n",
       "      <td>0</td>\n",
       "      <td>0</td>\n",
       "      <td>0</td>\n",
       "      <td>...</td>\n",
       "      <td>0</td>\n",
       "      <td>0</td>\n",
       "      <td>0</td>\n",
       "      <td>0</td>\n",
       "      <td>0</td>\n",
       "      <td>0</td>\n",
       "      <td>0</td>\n",
       "      <td>0</td>\n",
       "      <td>0</td>\n",
       "      <td>0</td>\n",
       "    </tr>\n",
       "    <tr>\n",
       "      <th>1</th>\n",
       "      <td>0</td>\n",
       "      <td>0</td>\n",
       "      <td>0</td>\n",
       "      <td>0</td>\n",
       "      <td>0</td>\n",
       "      <td>0</td>\n",
       "      <td>0</td>\n",
       "      <td>0</td>\n",
       "      <td>0</td>\n",
       "      <td>0</td>\n",
       "      <td>...</td>\n",
       "      <td>0</td>\n",
       "      <td>0</td>\n",
       "      <td>0</td>\n",
       "      <td>0</td>\n",
       "      <td>0</td>\n",
       "      <td>0</td>\n",
       "      <td>0</td>\n",
       "      <td>0</td>\n",
       "      <td>0</td>\n",
       "      <td>0</td>\n",
       "    </tr>\n",
       "    <tr>\n",
       "      <th>4</th>\n",
       "      <td>0</td>\n",
       "      <td>0</td>\n",
       "      <td>0</td>\n",
       "      <td>0</td>\n",
       "      <td>0</td>\n",
       "      <td>0</td>\n",
       "      <td>0</td>\n",
       "      <td>0</td>\n",
       "      <td>0</td>\n",
       "      <td>0</td>\n",
       "      <td>...</td>\n",
       "      <td>0</td>\n",
       "      <td>0</td>\n",
       "      <td>0</td>\n",
       "      <td>0</td>\n",
       "      <td>0</td>\n",
       "      <td>0</td>\n",
       "      <td>0</td>\n",
       "      <td>0</td>\n",
       "      <td>0</td>\n",
       "      <td>0</td>\n",
       "    </tr>\n",
       "    <tr>\n",
       "      <th>2</th>\n",
       "      <td>0</td>\n",
       "      <td>0</td>\n",
       "      <td>0</td>\n",
       "      <td>0</td>\n",
       "      <td>0</td>\n",
       "      <td>0</td>\n",
       "      <td>0</td>\n",
       "      <td>0</td>\n",
       "      <td>0</td>\n",
       "      <td>0</td>\n",
       "      <td>...</td>\n",
       "      <td>0</td>\n",
       "      <td>0</td>\n",
       "      <td>0</td>\n",
       "      <td>0</td>\n",
       "      <td>0</td>\n",
       "      <td>0</td>\n",
       "      <td>0</td>\n",
       "      <td>0</td>\n",
       "      <td>0</td>\n",
       "      <td>0</td>\n",
       "    </tr>\n",
       "    <tr>\n",
       "      <th>0</th>\n",
       "      <td>0</td>\n",
       "      <td>0</td>\n",
       "      <td>0</td>\n",
       "      <td>0</td>\n",
       "      <td>0</td>\n",
       "      <td>0</td>\n",
       "      <td>0</td>\n",
       "      <td>0</td>\n",
       "      <td>0</td>\n",
       "      <td>0</td>\n",
       "      <td>...</td>\n",
       "      <td>0</td>\n",
       "      <td>0</td>\n",
       "      <td>0</td>\n",
       "      <td>0</td>\n",
       "      <td>0</td>\n",
       "      <td>0</td>\n",
       "      <td>0</td>\n",
       "      <td>0</td>\n",
       "      <td>0</td>\n",
       "      <td>0</td>\n",
       "    </tr>\n",
       "  </tbody>\n",
       "</table>\n",
       "<p>5 rows × 13449 columns</p>\n",
       "</div>"
      ],
      "text/plain": [
       "   aaron  ab  aback  abandoned  abboud  abbreviated  abc  abdallah  abdul  \\\n",
       "3      0   0      0          0       0            0    0         0      0   \n",
       "1      0   0      0          0       0            0    0         0      0   \n",
       "4      0   0      0          0       0            0    0         0      0   \n",
       "2      0   0      0          0       0            0    0         0      0   \n",
       "0      0   0      0          0       0            0    0         0      0   \n",
       "\n",
       "   abdullah  ...  zoey  zombies  zone  zones  zoo  zoom  zoomed  zooms  \\\n",
       "3         0  ...     0        0     0      0    0     0       0      0   \n",
       "1         0  ...     0        0     0      0    0     0       0      0   \n",
       "4         0  ...     0        0     0      0    0     0       0      0   \n",
       "2         0  ...     0        0     0      0    0     0       0      0   \n",
       "0         0  ...     0        0     0      0    0     0       0      0   \n",
       "\n",
       "   zuckerberg  zukerman  \n",
       "3           0         0  \n",
       "1           0         0  \n",
       "4           0         0  \n",
       "2           0         0  \n",
       "0           0         0  \n",
       "\n",
       "[5 rows x 13449 columns]"
      ]
     },
     "execution_count": 16,
     "metadata": {},
     "output_type": "execute_result"
    }
   ],
   "source": [
    "word_count_array.sample(5)\n"
   ]
  },
  {
   "cell_type": "code",
   "execution_count": null,
   "metadata": {},
   "outputs": [],
   "source": []
  },
  {
   "cell_type": "code",
   "execution_count": 4,
   "metadata": {},
   "outputs": [],
   "source": [
    "client = MongoClient()\n",
    "db = client.tal_pod"
   ]
  },
  {
   "cell_type": "code",
   "execution_count": 5,
   "metadata": {},
   "outputs": [
    {
     "data": {
      "text/plain": [
       "['episodes']"
      ]
     },
     "execution_count": 5,
     "metadata": {},
     "output_type": "execute_result"
    }
   ],
   "source": [
    "db.list_collection_names()"
   ]
  },
  {
   "cell_type": "code",
   "execution_count": 12,
   "metadata": {
    "collapsed": true
   },
   "outputs": [
    {
     "data": {
      "text/plain": [
       "[{'ep': '688', 'title': 'The Out Crowd'},\n",
       " {'ep': '667', 'title': 'Wartime Radio'},\n",
       " {'ep': '671', 'title': 'Anything Can Be Anything'},\n",
       " {'ep': '684', 'title': 'Burn It Down'},\n",
       " {'ep': '685', 'title': 'We Come From Small Places'},\n",
       " {'ep': '670', 'title': 'Beware the Jabberwock'},\n",
       " {'ep': '689', 'title': 'Digging Up the Bones'},\n",
       " {'ep': '666', 'title': 'The Theme That Shall Not Be Named'},\n",
       " {'ep': '682', 'title': 'Ten Sessions'},\n",
       " {'ep': '677', 'title': 'Seeing Yourself In the Wild'},\n",
       " {'ep': '676', 'title': 'Here’s Looking at You, Kid'},\n",
       " {'ep': '683', 'title': 'Beer Summit'},\n",
       " {'ep': '679', 'title': 'Save the Girl'},\n",
       " {'ep': '680', 'title': 'The Weight Of Words'},\n",
       " {'ep': '675', 'title': 'I’m on TV??'},\n",
       " {'ep': '674', 'title': 'Get a Spine!'},\n",
       " {'ep': '681', 'title': 'Escape From the Lab'},\n",
       " {'ep': '678', 'title': 'The Wannabes'},\n",
       " {'ep': '673', 'title': 'Left Behind'},\n",
       " {'ep': '665', 'title': 'Before Things Went to Hell'},\n",
       " {'ep': '690', 'title': 'Too Close to Home'},\n",
       " {'ep': '669', 'title': 'Scrambling to Get Off the Ice'},\n",
       " {'ep': '686', 'title': 'Umbrellas Up'},\n",
       " {'ep': '668', 'title': 'The Long Fuse'},\n",
       " {'ep': '687', 'title': 'Small Things Considered'},\n",
       " {'ep': '672', 'title': 'No Fair!'}]"
      ]
     },
     "execution_count": 12,
     "metadata": {},
     "output_type": "execute_result"
    }
   ],
   "source": [
    "cursor = db.episodes.find({}, {'ep':1, 'title': 1, '_id':0})\n",
    "list(cursor)"
   ]
  },
  {
   "cell_type": "code",
   "execution_count": 20,
   "metadata": {},
   "outputs": [
    {
     "data": {
      "text/plain": [
       "[]"
      ]
     },
     "execution_count": 20,
     "metadata": {},
     "output_type": "execute_result"
    }
   ],
   "source": [
    "\n"
   ]
  },
  {
   "cell_type": "code",
   "execution_count": null,
   "metadata": {},
   "outputs": [],
   "source": []
  },
  {
   "cell_type": "code",
   "execution_count": null,
   "metadata": {},
   "outputs": [],
   "source": []
  },
  {
   "cell_type": "code",
   "execution_count": 10,
   "metadata": {},
   "outputs": [],
   "source": [
    "db['episodes'].drop()"
   ]
  },
  {
   "cell_type": "code",
   "execution_count": null,
   "metadata": {},
   "outputs": [],
   "source": []
  }
 ],
 "metadata": {
  "kernelspec": {
   "display_name": "Python [conda env:dummy] *",
   "language": "python",
   "name": "conda-env-dummy-py"
  },
  "language_info": {
   "codemirror_mode": {
    "name": "ipython",
    "version": 3
   },
   "file_extension": ".py",
   "mimetype": "text/x-python",
   "name": "python",
   "nbconvert_exporter": "python",
   "pygments_lexer": "ipython3",
   "version": "3.7.4"
  }
 },
 "nbformat": 4,
 "nbformat_minor": 2
}
